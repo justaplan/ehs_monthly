{
  "nbformat": 4,
  "nbformat_minor": 0,
  "metadata": {
    "colab": {
      "name": "EHS_Analysis_Monthly.ipynb",
      "provenance": [],
      "private_outputs": true,
      "collapsed_sections": [],
      "authorship_tag": "ABX9TyM0gvtrwDNCb1MwNoToWEef",
      "include_colab_link": true
    },
    "kernelspec": {
      "name": "python3",
      "display_name": "Python 3"
    }
  },
  "cells": [
    {
      "cell_type": "markdown",
      "metadata": {
        "id": "view-in-github",
        "colab_type": "text"
      },
      "source": [
        "<a href=\"https://colab.research.google.com/github/justaplan/ehs_monthly/blob/master/EHS_Analysis_Monthly.ipynb\" target=\"_parent\"><img src=\"https://colab.research.google.com/assets/colab-badge.svg\" alt=\"Open In Colab\"/></a>"
      ]
    },
    {
      "cell_type": "code",
      "metadata": {
        "id": "LPSI8RnVtvis",
        "colab_type": "code",
        "colab": {}
      },
      "source": [
        "from google.colab import auth\n",
        "auth.authenticate_user()\n",
        "import pandas as pd\n",
        "import matplotlib.pyplot as plt\n",
        "from matplotlib import pylab\n",
        "import gspread\n",
        "from oauth2client.client import GoogleCredentials\n",
        "import numpy as np\n",
        "import plotly.express as px\n",
        "\n",
        "pd.set_option(\"display.max_columns\",None)\n",
        "pd.set_option(\"display.max_rows\",None)\n",
        "\n",
        "gc = gspread.authorize(GoogleCredentials.get_application_default())\n",
        "\n",
        "wb = gc.open_by_key('1qvK5BkBSLDFKhausgwg8Ai3-3scVwJHGBrJ17fj48tc')\n",
        "ws = wb.worksheet(\"Month Data\")\n",
        "\n",
        "# get_all_values gives a list of rows.\n",
        "rows = ws.get_all_values()\n",
        "\n",
        "# Convert to a DataFrame and render.\n",
        "df = pd.DataFrame.from_records(rows[1:],columns=rows[0])\n",
        "\n",
        "df.head()"
      ],
      "execution_count": null,
      "outputs": []
    },
    {
      "cell_type": "code",
      "metadata": {
        "id": "J4V_KxHeuq-f",
        "colab_type": "code",
        "colab": {}
      },
      "source": [
        "for column in df.columns[4:13]:\n",
        "  df[column] = df[column].astype(int)\n",
        "\n",
        "df[\"Year Quarter & Month\"] = df[\"Year\"] + \" \" + df[\"Quarter\"] + \" \" + df[\"Month\"]"
      ],
      "execution_count": null,
      "outputs": []
    },
    {
      "cell_type": "markdown",
      "metadata": {
        "id": "Q5xgo2oMWVUe",
        "colab_type": "text"
      },
      "source": [
        "**<h1>Custom function</h1>**"
      ]
    },
    {
      "cell_type": "code",
      "metadata": {
        "id": "zv02xjaNWaGV",
        "colab_type": "code",
        "colab": {}
      },
      "source": [
        "## To draw the trendline\n",
        "def draw_trend_line(x,y,label):\n",
        "  z = np.polyfit(x, y, 1)\n",
        "  p = np.poly1d(z)\n",
        "  pylab.plot(x,p(x), linestyle=\"--\",label=label)\n",
        "\n",
        "## Value plotting in the chart\n",
        "def value_plotting(input1,input2,input3):\n",
        "  for x,y in zip(input1,input2):\n",
        "    plt.text(x,y + (input3),s=y)"
      ],
      "execution_count": null,
      "outputs": []
    },
    {
      "cell_type": "markdown",
      "metadata": {
        "id": "uAVBjDQKXHAn",
        "colab_type": "text"
      },
      "source": [
        "<h1>Company's Permanent & Contract Employees, Trainee and Subcontrator by Year, Quarter and Month.</h1>\n"
      ]
    },
    {
      "cell_type": "code",
      "metadata": {
        "id": "Qr5iiboDt_gz",
        "colab_type": "code",
        "colab": {}
      },
      "source": [
        "## Chart Size and Style\n",
        "plt.figure(figsize=(20,7), dpi=100)\n",
        "plt.style.use(\"seaborn\")\n",
        "\n",
        "\n",
        "## Data Gathering\n",
        "y_q_m = df[\"Year Quarter & Month\"]\n",
        "per_con = df[\"Permanent & Contract\"]\n",
        "trainee = df[\"Trainee\"]\n",
        "sub_con = df[\"Subcontractor\"]\n",
        "\n",
        "x_indexes = np.arange(len(y_q_m))\n",
        "width = 0.25\n",
        "\n",
        "## Chart Plotting\n",
        "plt.bar(x_indexes - width,per_con,width=width,label=\"Permanenet & Subcontractor\")\n",
        "plt.bar(x_indexes,trainee,width=width,label=\"Trainee\")\n",
        "plt.bar(x_indexes + width,sub_con,width=width,label=\"Subcontractor\")\n",
        "\n",
        "draw_trend_line(x_indexes - width,per_con,\"Trendline for Permanent & Contract\")\n",
        "draw_trend_line(x_indexes,trainee,\"Trendline for Trainee\")\n",
        "draw_trend_line(x_indexes + width,sub_con,\"Trendline for Subcontractor\")\n",
        "\n",
        "value_plotting(x_indexes - width,per_con,0)\n",
        "value_plotting(x_indexes,trainee,0)\n",
        "value_plotting(x_indexes + width,sub_con,0)\n",
        "\n",
        "\n",
        "## Chart Title and Labelling\n",
        "plt.title(\"Average Company Employee by Year, Quarter and Month and The Trendline\")\n",
        "plt.xlabel(\"Year Quarter Month\")\n",
        "plt.ylabel(\"Number of employee(s)\")\n",
        "plt.xticks(x_indexes,y_q_m,rotation=\"vertical\")\n",
        "\n",
        "\n",
        "plt.legend()\n",
        "\n",
        "plt.tight_layout()\n",
        "plt.show()"
      ],
      "execution_count": null,
      "outputs": []
    },
    {
      "cell_type": "markdown",
      "metadata": {
        "id": "AMH3-H5sXfsO",
        "colab_type": "text"
      },
      "source": [
        ""
      ]
    },
    {
      "cell_type": "code",
      "metadata": {
        "id": "4ir73TqxXf4u",
        "colab_type": "code",
        "colab": {}
      },
      "source": [
        "df.head()"
      ],
      "execution_count": null,
      "outputs": []
    },
    {
      "cell_type": "code",
      "metadata": {
        "id": "VXPrKRsXXmYH",
        "colab_type": "code",
        "colab": {}
      },
      "source": [
        "## Chart Size and Style\n",
        "plt.figure(figsize=(20,7), dpi=100)\n",
        "plt.style.use(\"fivethirtyeight\")\n",
        "\n",
        "y_q_m = df[\"Year Quarter & Month\"]\n",
        "total_workhours = df[\"Total Hour Accumulated\"]\n",
        "total_without_LTI = df[\"Total Hour Without LTI\"]\n",
        "\n",
        "\n",
        "x_indexes = np.arange(len(y_q_m))\n",
        "\n",
        "\n",
        "bar_list = plt.bar(x_indexes,total_workhours,alpha=0.5,label=\"Total Working Hours Accumlated\")\n",
        "plt.plot(x_indexes,total_without_LTI,linewidth=1,linestyle=\"--\",label=\"Total Working Hours without LTI\")\n",
        "\n",
        "for i in range(len(x_indexes)):\n",
        "  if i < 12:\n",
        "    bar_list[i].set_color(\"#d92027\")\n",
        "  elif i < 24:\n",
        "    bar_list[i].set_color(\"#ff9234\")\n",
        "  elif i < 36:\n",
        "    bar_list[i].set_color(\"#ff9a76\")\n",
        "  elif i < 48:\n",
        "    bar_list[i].set_color(\"#ffcd3c\")\n",
        "  else:\n",
        "    bar_list[i].set_color(\"#35d0ba\")\n",
        "    \n",
        "\n",
        "plt.title(\"Company's Total Working Hours Accumulated vs Total Working Hours without LTI\")\n",
        "plt.xlabel(\"Year\")\n",
        "plt.ylabel(\"Hours\")\n",
        "plt.xticks(x_indexes,y_q_m,rotation=\"vertical\")\n",
        "\n",
        "\n",
        "\n",
        "plt.legend()\n",
        "\n",
        "\n",
        "plt.tight_layout()\n",
        "plt.show()"
      ],
      "execution_count": null,
      "outputs": []
    }
  ]
}